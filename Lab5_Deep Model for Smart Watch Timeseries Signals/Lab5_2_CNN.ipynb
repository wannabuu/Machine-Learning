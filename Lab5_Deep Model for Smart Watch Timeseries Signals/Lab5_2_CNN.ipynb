{
  "cells": [
    {
      "cell_type": "markdown",
      "metadata": {
        "id": "CSvgbSh2cOT-"
      },
      "source": [
        "# **LAB 5 - PART 2 CNN**"
      ]
    },
    {
      "cell_type": "code",
      "execution_count": 42,
      "metadata": {
        "id": "z6QEhTYwcOUA"
      },
      "outputs": [],
      "source": [
        "import torch\n",
        "import torch.nn as nn\n",
        "import numpy as np\n",
        "import matplotlib.pyplot as plt\n",
        "from sklearn.metrics import confusion_matrix,classification_report\n",
        "import seaborn as sns\n"
      ]
    },
    {
      "cell_type": "code",
      "source": [
        "torch.manual_seed(841)\n",
        "device = torch.device(\"cuda\" if torch.cuda.is_available() else \"cpu\")"
      ],
      "metadata": {
        "id": "hWSpoaKKc59T"
      },
      "execution_count": 43,
      "outputs": []
    },
    {
      "cell_type": "markdown",
      "metadata": {
        "id": "cUC2O1oNcOUB"
      },
      "source": [
        "#### **Data Preparation**\n",
        "- **Create two images**: one for a square and another for a triangle.<br>\n",
        "    Each image should be 4x4 pixels with values as shown below.<br>\n",
        "    Then stack them in to tensor like `torch.tensor([<square tensor>,<triangle tensor>])`.\n",
        "\n",
        "- **Create the label**: create the labels that correspond to each image. Use 1 for square and 0 for triangle.<br>\n",
        "\n",
        "Then display the images as shown below.\n",
        "\n",
        "![image.png](attachment:image.png)"
      ]
    },
    {
      "cell_type": "code",
      "source": [
        "# Define the size of the square image\n",
        "image_size = 5\n",
        "\n",
        "# Create a 2D array representing the square image\n",
        "square = np.ones((image_size, image_size))\n",
        "\n",
        "print(\"Square Image (2D Array):\")\n",
        "print(square)"
      ],
      "metadata": {
        "colab": {
          "base_uri": "https://localhost:8080/"
        },
        "id": "StfOG9BLd6Dm",
        "outputId": "9d4cfb37-949d-47fd-c9e9-f60f98d4270e"
      },
      "execution_count": 44,
      "outputs": [
        {
          "output_type": "stream",
          "name": "stdout",
          "text": [
            "Square Image (2D Array):\n",
            "[[1. 1. 1. 1. 1.]\n",
            " [1. 1. 1. 1. 1.]\n",
            " [1. 1. 1. 1. 1.]\n",
            " [1. 1. 1. 1. 1.]\n",
            " [1. 1. 1. 1. 1.]]\n"
          ]
        }
      ]
    },
    {
      "cell_type": "code",
      "source": [
        "# Define the size of the triangle image\n",
        "image_size = 5\n",
        "\n",
        "# Create a 2D array representing the triangle image\n",
        "triangle = np.zeros((image_size, image_size))\n",
        "\n",
        "# Fill the upper triangle region with ones\n",
        "for i in range(image_size):\n",
        "    for j in range(i + 1):\n",
        "        triangle[i, j] = 1\n",
        "\n",
        "print(\"Triangle Image (2D Array):\")\n",
        "print(triangle)"
      ],
      "metadata": {
        "colab": {
          "base_uri": "https://localhost:8080/"
        },
        "id": "cwzlvfqWeEiX",
        "outputId": "9e2d588d-20eb-439f-d10a-fce142de8b83"
      },
      "execution_count": 45,
      "outputs": [
        {
          "output_type": "stream",
          "name": "stdout",
          "text": [
            "Triangle Image (2D Array):\n",
            "[[1. 0. 0. 0. 0.]\n",
            " [1. 1. 0. 0. 0.]\n",
            " [1. 1. 1. 0. 0.]\n",
            " [1. 1. 1. 1. 0.]\n",
            " [1. 1. 1. 1. 1.]]\n"
          ]
        }
      ]
    },
    {
      "cell_type": "code",
      "execution_count": 46,
      "metadata": {
        "id": "q3EE4x57cOUC"
      },
      "outputs": [],
      "source": [
        "# ### START CODE HERE ###\n",
        "# square_list = [[1., 1., 1., 1.],\n",
        "#                [1., 5., 5., 1.],\n",
        "#                [1., 5., 5., 1.],\n",
        "#                [1., 1., 1., 1.]]\n",
        "# square = np.array(square_list)\n",
        "\n",
        "\n",
        "# triangle_list = [[1., 1., 1., 5.],\n",
        "#                [1., 1., 5., 5.],\n",
        "#                [1., 5., 5., 5.],\n",
        "#                [5., 5., 5., 5.]]\n",
        "# triangle = np.array(triangle_list)\n",
        "\n",
        "# tensor_square = torch.tensor(square)\n",
        "# tensor_triangle = torch.tensor(triangle)\n",
        "\n",
        "# labels_square = torch.tensor([1])\n",
        "# labels_triangle = torch.tensor([0])\n",
        "\n",
        "# data_tensors = torch.stack([tensor_square,tensor_triangle])\n",
        "# data_labels = torch.stack([labels_square,labels_triangle])\n",
        "\n",
        "# ### END CODE HERE ###"
      ]
    },
    {
      "cell_type": "code",
      "source": [
        "import numpy as np\n",
        "import torch\n",
        "\n",
        "# Define the square and triangle lists\n",
        "square_list = [[1., 1., 1., 1.],\n",
        "               [1., 5., 5., 1.],\n",
        "               [1., 5., 5., 1.],\n",
        "               [1., 1., 1., 1.]]\n",
        "\n",
        "triangle_list = [[1., 1., 1., 5.],\n",
        "                 [1., 1., 5., 5.],\n",
        "                 [1., 5., 5., 5.],\n",
        "                 [5., 5., 5., 5.]]\n",
        "\n",
        "# Convert lists to numpy arrays\n",
        "square = np.array(square_list)\n",
        "triangle = np.array(triangle_list)\n",
        "\n",
        "# Convert numpy arrays to PyTorch tensors\n",
        "tensor_square = torch.tensor(square).unsqueeze(0).unsqueeze(0)  # Add batch dimension\n",
        "tensor_triangle = torch.tensor(triangle).unsqueeze(0).unsqueeze(0)  # Add batch dimension\n",
        "\n",
        "# Define labels for the square and triangle images\n",
        "label_square = torch.tensor([1])\n",
        "label_triangle = torch.tensor([0])\n",
        "\n",
        "# Stack tensors along the first dimension to create a batch\n",
        "data_tensor = torch.cat([tensor_square, tensor_triangle], dim=0)\n",
        "\n",
        "# Stack labels in a similar way to match the batched data\n",
        "label_tensor = torch.stack([label_square, label_triangle])\n"
      ],
      "metadata": {
        "id": "Cu51olIZiH5h"
      },
      "execution_count": 47,
      "outputs": []
    },
    {
      "cell_type": "code",
      "source": [
        "\n",
        "# Display square image\n",
        "plt.subplot(1, 2, 1)\n",
        "plt.imshow(square)\n",
        "plt.title('Square')\n",
        "plt.axis('off')\n",
        "\n",
        "# Display triangle image\n",
        "plt.subplot(1, 2, 2)\n",
        "plt.imshow(triangle)\n",
        "plt.title('Triangle')\n",
        "plt.axis('off')\n",
        "\n",
        "plt.show()"
      ],
      "metadata": {
        "colab": {
          "base_uri": "https://localhost:8080/",
          "height": 284
        },
        "id": "SKH9hqwoepei",
        "outputId": "59c8ae9f-4e16-4475-e119-024ca190a330"
      },
      "execution_count": 48,
      "outputs": [
        {
          "output_type": "display_data",
          "data": {
            "text/plain": [
              "<Figure size 640x480 with 2 Axes>"
            ],
            "image/png": "[encoded data removed]"
          },
          "metadata": {}
        }
      ]
    },
    {
      "cell_type": "markdown",
      "metadata": {
        "id": "F5WCMNyzcOUC"
      },
      "source": [
        "If your code is correct, this cell will execute without any issues."
      ]
    },
    {
      "cell_type": "code",
      "execution_count": 49,
      "metadata": {
        "id": "ZHcV7Fp9cOUC",
        "colab": {
          "base_uri": "https://localhost:8080/"
        },
        "outputId": "771a0431-9984-4f3c-fba1-ff265adfaa64"
      },
      "outputs": [
        {
          "output_type": "stream",
          "name": "stdout",
          "text": [
            "You have successfully created the data_tensors!\n"
          ]
        }
      ],
      "source": [
        "assert data_tensor.shape == torch.Size([2, 1, 4, 4])\n",
        "assert label_tensor.shape == torch.Size([2, 1])\n",
        "print(\"You have successfully created the data_tensors!\")"
      ]
    },
    {
      "cell_type": "markdown",
      "metadata": {
        "id": "sF2Yog6mcOUC"
      },
      "source": [
        "A `DataLoader` is a PyTorch utility that helps in loading and batching data for training or inference. <br>\n",
        "It takes in a dataset as input and provides an iterable over the dataset, allowing you to access the data in batches."
      ]
    },
    {
      "cell_type": "code",
      "execution_count": 50,
      "metadata": {
        "id": "6Kaef06PcOUD"
      },
      "outputs": [],
      "source": [
        "dataset = torch.utils.data.TensorDataset(data_tensor, label_tensor)\n",
        "dataloader = torch.utils.data.DataLoader(dataset, batch_size=len(dataset), shuffle=True)"
      ]
    },
    {
      "cell_type": "markdown",
      "metadata": {
        "id": "HPDKV2SqcOUD"
      },
      "source": [
        "### **Define the SimpleCNN Architecture**"
      ]
    },
    {
      "cell_type": "markdown",
      "metadata": {
        "id": "e05DCIZYcOUD"
      },
      "source": [
        "**Create simpleCNN model class using PyTorch.**\n",
        "- Using `Conv2d()`,`ReLU()`,`Flatten()`,`Linear()`,`Sigmoid()`\n",
        "\n",
        "\n",
        "![image.png](attachment:image.png)"
      ]
    },
    {
      "cell_type": "code",
      "source": [],
      "metadata": {
        "id": "F3aIFsxFjDEM"
      },
      "execution_count": 50,
      "outputs": []
    },
    {
      "cell_type": "code",
      "execution_count": 51,
      "metadata": {
        "id": "8lPuaLUMcOUD",
        "colab": {
          "base_uri": "https://localhost:8080/"
        },
        "outputId": "84460f8b-5ed2-429f-c684-3894745f1c1d"
      },
      "outputs": [
        {
          "output_type": "stream",
          "name": "stdout",
          "text": [
            "SimpleCNN(\n",
            "  (conv1): Conv2d(1, 2, kernel_size=(3, 3), stride=(1, 1), padding=(1, 1))\n",
            "  (relu1): ReLU()\n",
            "  (conv2): Conv2d(2, 2, kernel_size=(3, 3), stride=(1, 1), padding=(1, 1))\n",
            "  (relu2): ReLU()\n",
            "  (flatten): Flatten(start_dim=1, end_dim=-1)\n",
            "  (fc): Linear(in_features=32, out_features=2, bias=True)\n",
            "  (relu3): ReLU()\n",
            "  (out): Linear(in_features=2, out_features=1, bias=True)\n",
            "  (sigmoid): Sigmoid()\n",
            ")\n"
          ]
        }
      ],
      "source": [
        "class SimpleCNN(nn.Module):\n",
        "    def __init__(self):\n",
        "        super(SimpleCNN, self).__init__()\n",
        "        ### START CODE HERE ###\n",
        "        self.conv1 = nn.Conv2d(in_channels=1, out_channels=2, kernel_size=3, stride=1, padding=1)\n",
        "        self.relu1 = nn.ReLU()\n",
        "        self.conv2 = nn.Conv2d(in_channels=2, out_channels=2, kernel_size=3, stride=1, padding=1)\n",
        "        self.relu2 = nn.ReLU()\n",
        "        self.flatten = nn.Flatten()\n",
        "        self.fc = nn.Linear(32,2)\n",
        "        self.relu3 = nn.ReLU()\n",
        "        self.out = nn.Linear(2,1)\n",
        "        self.sigmoid = nn.Sigmoid()\n",
        "        ### END CODE HERE ###\n",
        "\n",
        "    def get_features(self, x):\n",
        "        \"\"\"\n",
        "        Function to get the feature maps of the input\n",
        "        \"\"\"\n",
        "        x = self.conv1(x)\n",
        "        f1 = self.relu1(x)\n",
        "        x = self.conv2(f1)\n",
        "        f2 = self.relu2(x)\n",
        "        return f1,f2\n",
        "\n",
        "    def forward(self, x):\n",
        "        x = self.conv1(x)\n",
        "        x = self.relu1(x)\n",
        "        x = self.conv2(x)\n",
        "        x = self.relu2(x)\n",
        "        x = self.flatten(x)\n",
        "        x = self.fc(x)\n",
        "        x = self.relu3(x)\n",
        "        x = self.out(x)\n",
        "        x = self.sigmoid(x)\n",
        "        return x\n",
        "\n",
        "# Set the random seed for reproducible results\n",
        "torch.manual_seed(841)\n",
        "device = torch.device(\"cuda\" if torch.cuda.is_available() else \"cpu\")\n",
        "model = SimpleCNN().to(device)\n",
        "print(model)"
      ]
    },
    {
      "cell_type": "markdown",
      "metadata": {
        "id": "sk5pF-MucOUE"
      },
      "source": [
        "If your model architechture is correct. this cell will execute without any issues."
      ]
    },
    {
      "cell_type": "code",
      "source": [
        "tensor_triangle.shape"
      ],
      "metadata": {
        "colab": {
          "base_uri": "https://localhost:8080/"
        },
        "id": "pinqKCBOjlBg",
        "outputId": "c5fecccc-79dd-42d7-cee1-69ec877c0382"
      },
      "execution_count": 52,
      "outputs": [
        {
          "output_type": "execute_result",
          "data": {
            "text/plain": [
              "torch.Size([1, 1, 4, 4])"
            ]
          },
          "metadata": {},
          "execution_count": 52
        }
      ]
    },
    {
      "cell_type": "code",
      "source": [
        "output_shape = model(tensor_triangle.float().to(device)).shape\n",
        "output_shape"
      ],
      "metadata": {
        "colab": {
          "base_uri": "https://localhost:8080/"
        },
        "id": "NiRrgddzj4f-",
        "outputId": "fc1e8bb0-d358-4136-8673-09301ef55e3a"
      },
      "execution_count": 53,
      "outputs": [
        {
          "output_type": "execute_result",
          "data": {
            "text/plain": [
              "torch.Size([1, 1])"
            ]
          },
          "metadata": {},
          "execution_count": 53
        }
      ]
    },
    {
      "cell_type": "code",
      "execution_count": 54,
      "metadata": {
        "id": "RUl3hh4jcOUE",
        "colab": {
          "base_uri": "https://localhost:8080/"
        },
        "outputId": "94c3a7d6-fd1e-4f91-d355-32898494549f"
      },
      "outputs": [
        {
          "output_type": "stream",
          "name": "stdout",
          "text": [
            "You have successfully implemented a forward pass!\n"
          ]
        }
      ],
      "source": [
        "assert model(tensor_triangle.float().to(device)).shape == torch.Size([1, 1])\n",
        "print(\"You have successfully implemented a forward pass!\")"
      ]
    },
    {
      "cell_type": "markdown",
      "metadata": {
        "id": "CE2bOD0EcOUE"
      },
      "source": [
        "### **Train the model for `n` Epochs.**<br>\n",
        "\n",
        "After the training process you'll have to plot the model's loss for each epoch.\n",
        "<details>\n",
        "\n",
        "<summary>\n",
        "<font size=\"3\" color=\"orange\">\n",
        "<b>Expected output</b>\n",
        "</font>\n",
        "</summary>\n",
        "\n",
        "- The output should resemble this, but not be identical.\n",
        "\n",
        "![image.png](attachment:image.png)\n",
        "\n",
        "\n",
        "</details>"
      ]
    },
    {
      "cell_type": "code",
      "execution_count": 55,
      "metadata": {
        "id": "sHUgVgqAcOUE",
        "colab": {
          "base_uri": "https://localhost:8080/"
        },
        "outputId": "1f3c59da-f09f-47b2-a1af-c136e1dc8c82"
      },
      "outputs": [
        {
          "output_type": "stream",
          "name": "stdout",
          "text": [
            "[Epoch 100] Loss: 0.6887524724006653\n",
            "[Epoch 200] Loss: 0.6849654912948608\n",
            "[Epoch 300] Loss: 0.6804764270782471\n",
            "[Epoch 400] Loss: 0.6738135814666748\n",
            "[Epoch 500] Loss: 0.6658682823181152\n",
            "[Epoch 600] Loss: 0.6571264266967773\n",
            "[Epoch 700] Loss: 0.6465257406234741\n",
            "[Epoch 800] Loss: 0.6337717175483704\n",
            "[Epoch 900] Loss: 0.617363452911377\n",
            "[Epoch 1000] Loss: 0.5968653559684753\n",
            "[Epoch 1100] Loss: 0.571781575679779\n",
            "[Epoch 1200] Loss: 0.5429844856262207\n",
            "[Epoch 1300] Loss: 0.5107478499412537\n",
            "[Epoch 1400] Loss: 0.47731101512908936\n",
            "[Epoch 1500] Loss: 0.4455109238624573\n",
            "[Epoch 1600] Loss: 0.4172670245170593\n",
            "[Epoch 1700] Loss: 0.3931182026863098\n",
            "[Epoch 1800] Loss: 0.37361249327659607\n",
            "[Epoch 1900] Loss: 0.3567778468132019\n",
            "[Epoch 2000] Loss: 0.3428036570549011\n",
            "[Epoch 2100] Loss: 0.33070802688598633\n",
            "[Epoch 2200] Loss: 0.3189103603363037\n",
            "[Epoch 2300] Loss: 0.3078440725803375\n",
            "[Epoch 2400] Loss: 0.29606178402900696\n",
            "[Epoch 2500] Loss: 0.2825261354446411\n",
            "[Epoch 2600] Loss: 0.2666209042072296\n",
            "[Epoch 2700] Loss: 0.24751153588294983\n",
            "[Epoch 2800] Loss: 0.22314439713954926\n",
            "[Epoch 2900] Loss: 0.1933269053697586\n",
            "[Epoch 3000] Loss: 0.1584288775920868\n",
            "[Epoch 3100] Loss: 0.12426391988992691\n",
            "[Epoch 3200] Loss: 0.09469742327928543\n",
            "[Epoch 3300] Loss: 0.07187523692846298\n",
            "[Epoch 3400] Loss: 0.0557284913957119\n",
            "[Epoch 3500] Loss: 0.04425171762704849\n",
            "[Epoch 3600] Loss: 0.03591059893369675\n",
            "[Epoch 3700] Loss: 0.02981405332684517\n",
            "[Epoch 3800] Loss: 0.025126229971647263\n",
            "[Epoch 3900] Loss: 0.02150317281484604\n",
            "[Epoch 4000] Loss: 0.01861990988254547\n",
            "[Epoch 4100] Loss: 0.016309477388858795\n",
            "[Epoch 4200] Loss: 0.014418978244066238\n",
            "[Epoch 4300] Loss: 0.012856238521635532\n",
            "[Epoch 4400] Loss: 0.01154071930795908\n",
            "[Epoch 4500] Loss: 0.010437991470098495\n",
            "[Epoch 4600] Loss: 0.009500875137746334\n",
            "[Epoch 4700] Loss: 0.00868990644812584\n",
            "[Epoch 4800] Loss: 0.00798875279724598\n",
            "[Epoch 4900] Loss: 0.007370867766439915\n",
            "[Epoch 5000] Loss: 0.0068367766216397285\n",
            "[Epoch 5100] Loss: 0.006359498016536236\n",
            "[Epoch 5200] Loss: 0.005936472676694393\n",
            "[Epoch 5300] Loss: 0.005559384822845459\n",
            "[Epoch 5400] Loss: 0.005219278857111931\n",
            "[Epoch 5500] Loss: 0.004913839511573315\n",
            "[Epoch 5600] Loss: 0.004637656733393669\n",
            "[Epoch 5700] Loss: 0.004387115128338337\n",
            "[Epoch 5800] Loss: 0.0041576530784368515\n",
            "[Epoch 5900] Loss: 0.003948204219341278\n",
            "[Epoch 6000] Loss: 0.003756300313398242\n",
            "[Epoch 6100] Loss: 0.003580056130886078\n",
            "[Epoch 6200] Loss: 0.0034176167100667953\n",
            "[Epoch 6300] Loss: 0.003267523366957903\n",
            "[Epoch 6400] Loss: 0.0031283749267458916\n",
            "[Epoch 6500] Loss: 0.0029980551917105913\n",
            "[Epoch 6600] Loss: 0.0028781136497855186\n",
            "[Epoch 6700] Loss: 0.0027653889264911413\n",
            "[Epoch 6800] Loss: 0.0026606314349919558\n",
            "[Epoch 6900] Loss: 0.0025618704967200756\n",
            "[Epoch 7000] Loss: 0.002470274455845356\n",
            "[Epoch 7100] Loss: 0.0023833238519728184\n",
            "[Epoch 7200] Loss: 0.0023016673512756824\n",
            "[Epoch 7300] Loss: 0.0022252947092056274\n",
            "[Epoch 7400] Loss: 0.0021529397927224636\n",
            "[Epoch 7500] Loss: 0.0020844158716499805\n",
            "[Epoch 7600] Loss: 0.0020196493715047836\n",
            "[Epoch 7700] Loss: 0.001958288485184312\n",
            "[Epoch 7800] Loss: 0.0019001294858753681\n",
            "[Epoch 7900] Loss: 0.0018449622439220548\n",
            "[Epoch 8000] Loss: 0.001792574068531394\n",
            "[Epoch 8100] Loss: 0.0017427154816687107\n",
            "[Epoch 8200] Loss: 0.0016952442238107324\n",
            "[Epoch 8300] Loss: 0.0016499778721481562\n",
            "[Epoch 8400] Loss: 0.001606721431016922\n",
            "[Epoch 8500] Loss: 0.0015652243746444583\n",
            "[Epoch 8600] Loss: 0.0015258848434314132\n",
            "[Epoch 8700] Loss: 0.0014882534742355347\n",
            "[Epoch 8800] Loss: 0.0014521351549774408\n",
            "[Epoch 8900] Loss: 0.0014173751696944237\n",
            "[Epoch 9000] Loss: 0.0013842666521668434\n",
            "[Epoch 9100] Loss: 0.0013524482492357492\n",
            "[Epoch 9200] Loss: 0.0013217809610068798\n",
            "[Epoch 9300] Loss: 0.0012925219489261508\n",
            "[Epoch 9400] Loss: 0.0012640751665458083\n",
            "[Epoch 9500] Loss: 0.001237031421624124\n",
            "[Epoch 9600] Loss: 0.0012107489164918661\n",
            "[Epoch 9700] Loss: 0.0011856097262352705\n",
            "[Epoch 9800] Loss: 0.0011612237431108952\n",
            "[Epoch 9900] Loss: 0.0011379315983504057\n",
            "[Epoch 10000] Loss: 0.001115193823352456\n"
          ]
        }
      ],
      "source": [
        "### START CODE HERE ###\n",
        "epochs = 10000\n",
        "lr = 0.001\n",
        "criterion = nn.BCELoss()\n",
        "optimizer = torch.optim.SGD(model.parameters(), lr=lr)\n",
        "loss_history = []\n",
        "for epoch in range(epochs):\n",
        "    for x,y in dataloader:\n",
        "        x = x.to(device)\n",
        "        y = y.to(device)\n",
        "        optimizer.zero_grad()\n",
        "        output = model(x.float())\n",
        "        loss = criterion(output, y.float())\n",
        "        loss.backward()\n",
        "        optimizer.step()\n",
        "\n",
        "        loss_history.append(loss.item())\n",
        "\n",
        "\n",
        "    if (epoch+1) % 100 == 0:\n",
        "        print(f'[Epoch {epoch+1}] Loss: {loss.item()}')\n",
        "### END CODE HERE ###"
      ]
    },
    {
      "cell_type": "code",
      "source": [
        "plt.plot(loss_history, label='Training Loss')\n",
        "plt.xlabel('Iteration')\n",
        "plt.ylabel('Loss')\n",
        "plt.title('Training Loss')\n",
        "plt.legend()\n",
        "plt.show()"
      ],
      "metadata": {
        "colab": {
          "base_uri": "https://localhost:8080/",
          "height": 472
        },
        "id": "1z-FjuaWksNu",
        "outputId": "9a53e3d2-cd3d-438a-c220-57e19c5f9430"
      },
      "execution_count": 56,
      "outputs": [
        {
          "output_type": "display_data",
          "data": {
            "text/plain": [
              "<Figure size 640x480 with 1 Axes>"
            ],
            "image/png": "[encoded data removed]"
          },
          "metadata": {}
        }
      ]
    },
    {
      "cell_type": "markdown",
      "metadata": {
        "id": "I3kvUCSEcOUE"
      },
      "source": [
        "**Print model's weight**\n",
        "\n",
        "- Using `.state_dict()`\n",
        "\n",
        "<details>\n",
        "\n",
        "<summary>\n",
        "<font size=\"3\" color=\"orange\">\n",
        "<b>Expected output</b>\n",
        "</font>\n",
        "</summary>\n",
        "\n",
        "- The output should resemble this, but not be identical.\n",
        "\n",
        "```\n",
        "OrderedDict([('conv1.weight',\n",
        "              tensor([...], device='cuda:0')),\n",
        "             ('conv1.bias', tensor([...], device='cuda:0')),\n",
        "             ('conv2.weight',\n",
        "              ...\n",
        "             ('out.weight', tensor([...], device='cuda:0')),\n",
        "             ('out.bias', tensor([...], device='cuda:0'))])\n",
        "```\n",
        "\n",
        "</details>"
      ]
    },
    {
      "cell_type": "code",
      "execution_count": 57,
      "metadata": {
        "id": "hNdOEjdDcOUE",
        "colab": {
          "base_uri": "https://localhost:8080/"
        },
        "outputId": "104b293a-03ff-4a03-8feb-91fa2da12239"
      },
      "outputs": [
        {
          "output_type": "execute_result",
          "data": {
            "text/plain": [
              "OrderedDict([('conv1.weight',\n",
              "              tensor([[[[ 0.4067,  0.3885,  0.0350],\n",
              "                        [ 0.1886, -0.2966, -0.3441],\n",
              "                        [ 0.0218, -0.1420, -0.0328]]],\n",
              "              \n",
              "              \n",
              "                      [[[-0.1634,  0.0051,  0.2133],\n",
              "                        [ 0.3012,  0.4258,  0.2038],\n",
              "                        [-0.1495,  0.4598,  0.5247]]]])),\n",
              "             ('conv1.bias', tensor([-0.1167,  0.1044])),\n",
              "             ('conv2.weight',\n",
              "              tensor([[[[ 0.1382,  0.0599, -0.3067],\n",
              "                        [-0.1226, -0.0461, -0.3297],\n",
              "                        [-0.1627, -0.1836, -0.0983]],\n",
              "              \n",
              "                       [[-0.0271,  0.2784,  0.2995],\n",
              "                        [ 0.2462,  0.4819,  0.3733],\n",
              "                        [-0.0148,  0.1654,  0.2258]]],\n",
              "              \n",
              "              \n",
              "                      [[[-0.0155, -0.0861, -0.0033],\n",
              "                        [-0.0911,  0.0210,  0.1185],\n",
              "                        [-0.2459,  0.2029,  0.2227]],\n",
              "              \n",
              "                       [[ 0.1679, -0.0775, -0.0097],\n",
              "                        [ 0.1607, -0.0110,  0.0304],\n",
              "                        [ 0.2465,  0.0584, -0.2702]]]])),\n",
              "             ('conv2.bias', tensor([0.1126, 0.2133])),\n",
              "             ('fc.weight',\n",
              "              tensor([[ 0.1174,  0.1777,  0.1103, -0.1589,  0.1114,  0.3343,  0.2086, -0.0985,\n",
              "                        0.1802,  0.1580,  0.1330,  0.0638, -0.0346, -0.1872, -0.1107,  0.1026,\n",
              "                        0.1407, -0.0498,  0.1286,  0.0434, -0.0380,  0.0480,  0.1072,  0.2059,\n",
              "                        0.0771, -0.0339, -0.0676,  0.1695,  0.1498, -0.0759,  0.0959,  0.0949],\n",
              "                      [-0.2427, -0.0432,  0.2282,  0.2328, -0.2651,  0.0299,  0.1098,  0.1812,\n",
              "                       -0.1123,  0.2472,  0.2635,  0.1632,  0.2698,  0.3585,  0.1645,  0.1042,\n",
              "                        0.1780, -0.1149, -0.2834,  0.0184,  0.0307, -0.0458, -0.1115,  0.2093,\n",
              "                        0.1317, -0.2335, -0.0766,  0.2332,  0.0031, -0.0736,  0.1009,  0.0037]])),\n",
              "             ('fc.bias', tensor([-0.0735, -0.1170])),\n",
              "             ('out.weight', tensor([[ 0.4750, -0.9398]])),\n",
              "             ('out.bias', tensor([0.3768]))])"
            ]
          },
          "metadata": {},
          "execution_count": 57
        }
      ],
      "source": [
        "### START CODE HERE ###\n",
        "model.state_dict()\n",
        "### END CODE HERE ###"
      ]
    },
    {
      "cell_type": "markdown",
      "metadata": {
        "id": "r3c48XRGcOUE"
      },
      "source": [
        "**Show feature maps of each model's filters with 2 classes of inputs.**\n",
        "\n",
        "- Use `.get_features()`\n",
        "<details>\n",
        "\n",
        "<summary>\n",
        "<font size=\"3\" color=\"orange\">\n",
        "<b>Expected output</b>\n",
        "</font>\n",
        "</summary>\n",
        "\n",
        "- The output should resemble this, but not be identical.\n",
        "\n",
        "![image.png](attachment:image.png)\n",
        "\n",
        "</details>"
      ]
    },
    {
      "cell_type": "code",
      "source": [
        "triangle_float = tensor_triangle.float()\n",
        "triangle_float.shape"
      ],
      "metadata": {
        "colab": {
          "base_uri": "https://localhost:8080/"
        },
        "id": "qSgCXswtlytu",
        "outputId": "1d9b417b-1cd6-427a-c525-9bc0ef5858fa"
      },
      "execution_count": 58,
      "outputs": [
        {
          "output_type": "execute_result",
          "data": {
            "text/plain": [
              "torch.Size([1, 1, 4, 4])"
            ]
          },
          "metadata": {},
          "execution_count": 58
        }
      ]
    },
    {
      "cell_type": "code",
      "execution_count": 75,
      "metadata": {
        "id": "cv9mjQkCcOUE"
      },
      "outputs": [],
      "source": [
        "### START CODE HERE ###\n",
        "\n",
        "conv1_triangle, conv2_triangle = model.get_features(tensor_triangle.float().to(device))\n",
        "conv1_square, conv2_square = model.get_features(tensor_square.float().to(device))\n",
        "\n",
        "\n",
        "\n",
        "### END CODE HERE ###"
      ]
    },
    {
      "cell_type": "code",
      "source": [
        "conv1_triangle.shape"
      ],
      "metadata": {
        "colab": {
          "base_uri": "https://localhost:8080/"
        },
        "id": "POXkbCVZBEWt",
        "outputId": "5546fee2-3951-47d2-c5ac-af24dde744ca"
      },
      "execution_count": 76,
      "outputs": [
        {
          "output_type": "execute_result",
          "data": {
            "text/plain": [
              "torch.Size([1, 2, 4, 4])"
            ]
          },
          "metadata": {},
          "execution_count": 76
        }
      ]
    },
    {
      "cell_type": "code",
      "source": [
        "\n",
        "plt.figure(figsize=(12,6))\n",
        "\n",
        "feature_maps = [conv1_triangle,conv2_triangle,conv1_square,conv2_square]\n",
        "titles = [\"Conv layer1\",\"Conv layer2\"]\n",
        "\n",
        "for i, (feature_map, title) in enumerate(zip(feature_maps, titles), 1):\n",
        "    plt.subplot(2, 4, i)\n",
        "    plt.imshow(feature_map[0, 0].squeeze().cpu().detach().numpy(), cmap=\"gray\")\n",
        "    plt.title(title + \" Filter 1\")\n",
        "    plt.axis('off')\n",
        "\n",
        "    plt.subplot(2, 4, i + 4)\n",
        "    plt.imshow(feature_map[0, 1].squeeze().cpu().detach().numpy(), cmap=\"gray\")\n",
        "    plt.title(title + \" Filter 2\")\n",
        "    plt.axis('off')\n",
        "\n",
        "plt.tight_layout()\n",
        "plt.show()"
      ],
      "metadata": {
        "colab": {
          "base_uri": "https://localhost:8080/",
          "height": 610
        },
        "id": "an8FKZAu6Rkw",
        "outputId": "ffaf7e86-4c8a-4919-9ada-1fef1b46da24"
      },
      "execution_count": 60,
      "outputs": [
        {
          "output_type": "display_data",
          "data": {
            "text/plain": [
              "<Figure size 1200x600 with 4 Axes>"
            ],
            "image/png": "[encoded data removed]"
          },
          "metadata": {}
        }
      ]
    },
    {
      "cell_type": "code",
      "source": [
        "import matplotlib.pyplot as plt\n",
        "\n",
        "# Get feature maps for square inputs\n",
        "conv1_square, conv2_square = model.get_features(tensor_square.float().to(device))\n",
        "\n",
        "# Plotting feature maps for square inputs\n",
        "plt.figure(figsize=(12, 6))\n",
        "\n",
        "# List of feature maps and their titles for square inputs\n",
        "feature_maps_square = [conv1_square, conv2_square]\n",
        "titles_square = [\"Conv1 Square\", \"Conv2 Square\"]\n",
        "\n",
        "# Loop through feature maps and titles to plot them\n",
        "for i, (feature_map, title) in enumerate(zip(feature_maps_square, titles_square), 1):\n",
        "    plt.subplot(2, 2, i)\n",
        "    plt.imshow(feature_map[0, 0].squeeze().cpu().detach().numpy(), cmap=\"gray\")\n",
        "    plt.title(title + \" Filter 1\")\n",
        "    plt.axis('off')\n",
        "\n",
        "    plt.subplot(2, 2, i + 2)\n",
        "    plt.imshow(feature_map[0, 1].squeeze().cpu().detach().numpy(), cmap=\"gray\")\n",
        "    plt.title(title + \" Filter 2\")\n",
        "    plt.axis('off')\n",
        "\n",
        "plt.tight_layout()\n",
        "plt.show()\n"
      ],
      "metadata": {
        "colab": {
          "base_uri": "https://localhost:8080/",
          "height": 607
        },
        "id": "yswumude8PZu",
        "outputId": "0bcf1a8a-8d44-443a-d2e3-352182b67c7b"
      },
      "execution_count": 61,
      "outputs": [
        {
          "output_type": "display_data",
          "data": {
            "text/plain": [
              "<Figure size 1200x600 with 4 Axes>"
            ],
            "image/png": "[encoded data removed]"
          },
          "metadata": {}
        }
      ]
    },
    {
      "cell_type": "markdown",
      "metadata": {
        "id": "RuQF3YVccOUF"
      },
      "source": [
        "### **Evaluate how the model generalize.**\n",
        "\n",
        "- **Create two images**: one for a square and another for a triangle.<br>\n",
        "    Each image should be 4x4 pixels with values as shown below.<br>\n",
        "    Then stack them in to tensor like `torch.tensor([<square tensor>,<triangle tensor>])`.\n",
        "\n",
        "- **Create the label**: create the labels that correspond to each image. Use 1 for square and 0 for triangle.<br>\n",
        "\n",
        "Then display the images as shown below.\n",
        "\n",
        "![image.png](attachment:image.png)"
      ]
    },
    {
      "cell_type": "code",
      "source": [
        "import numpy as np\n",
        "import torch\n",
        "\n",
        "# Define the square and triangle lists\n",
        "square_list = [[1., 1., 1., 1.],\n",
        "                            [1., 2., 2., 1.],\n",
        "                            [1., 2., 2., 1.],\n",
        "                            [1., 1., 1., 1.]]\n",
        "\n",
        "triangle_list = [[1., 1., 1., 2.],\n",
        "                              [1., 1., 2., 2.],\n",
        "                              [1., 2., 2., 2.],\n",
        "                              [2., 2., 2., 2.]]\n",
        "\n",
        "# Convert lists to numpy arrays\n",
        "square_test = np.array(square_list)\n",
        "triangle_test = np.array(triangle_list)\n",
        "\n",
        "# Convert numpy arrays to PyTorch tensors\n",
        "tensor_square_test = torch.tensor(square_test).unsqueeze(0).unsqueeze(0)  # Add batch dimension\n",
        "tensor_triangle_test = torch.tensor(triangle_test).unsqueeze(0).unsqueeze(0)  # Add batch dimension\n",
        "\n",
        "# Define labels for the square and triangle images\n",
        "labels_square_test = torch.tensor([1])\n",
        "labels_triangle_test = torch.tensor([0])\n",
        "\n",
        "# Stack tensors along the first dimension to create a batch\n",
        "test_data_tensors = torch.cat([tensor_square_test, tensor_triangle_test], dim=0)\n",
        "\n",
        "# Stack labels in a similar way to match the batched data\n",
        "test_data_labels = torch.stack([label_square, label_triangle])\n"
      ],
      "metadata": {
        "id": "LV6-ASeyByAP"
      },
      "execution_count": 90,
      "outputs": []
    },
    {
      "cell_type": "code",
      "source": [
        "test_data_labels"
      ],
      "metadata": {
        "colab": {
          "base_uri": "https://localhost:8080/"
        },
        "id": "V1K_va0dDBUT",
        "outputId": "698a9139-5e79-4138-b5f6-9ac8c17348f2"
      },
      "execution_count": 97,
      "outputs": [
        {
          "output_type": "execute_result",
          "data": {
            "text/plain": [
              "tensor([[1],\n",
              "        [0]])"
            ]
          },
          "metadata": {},
          "execution_count": 97
        }
      ]
    },
    {
      "cell_type": "code",
      "execution_count": 82,
      "metadata": {
        "id": "7qmAAZ8OcOUF",
        "colab": {
          "base_uri": "https://localhost:8080/"
        },
        "outputId": "3bde0a4c-eb3f-48ee-97c5-36dbef686666"
      },
      "outputs": [
        {
          "output_type": "stream",
          "name": "stdout",
          "text": [
            "Test Data Tensors Shape: torch.Size([2, 1, 1, 4, 4])\n",
            "Test Labels Shape: torch.Size([2, 1])\n"
          ]
        }
      ],
      "source": [
        "\n",
        "# # Create square test tensor\n",
        "# square_test = torch.tensor([[1., 1., 1., 1.],\n",
        "#                             [1., 2., 2., 1.],\n",
        "#                             [1., 2., 2., 1.],\n",
        "#                             [1., 1., 1., 1.]])\n",
        "\n",
        "# # Create triangle test tensor\n",
        "# triangle_test = torch.tensor([[1., 1., 1., 2.],\n",
        "#                               [1., 1., 2., 2.],\n",
        "#                               [1., 2., 2., 2.],\n",
        "#                               [2., 2., 2., 2.]])\n",
        "\n",
        "# # Stack square and triangle test tensors into a single tensor\n",
        "# tensor_square_test = square_test.unsqueeze(0).unsqueeze(0)  # Add batch dimension\n",
        "# tensor_triangle_test = triangle_test.unsqueeze(0).unsqueeze(0)  # Add batch dimension\n",
        "# test_data_tensors = torch.cat([tensor_square_test, tensor_triangle_test], dim=0)\n",
        "\n",
        "# # Create test labels (1 for square, 0 for triangle)\n",
        "# labels_square_test = torch.tensor([1])\n",
        "# labels_triangle_test = torch.tensor([0])\n",
        "# test_data_labels = torch.stack([labels_square_test, labels_triangle_test])\n",
        "\n",
        "# test_data_tensors = test_data_tensors.unsqueeze(1)\n",
        "# print(\"Test Data Tensors Shape:\", test_data_tensors.shape)\n",
        "# print(\"Test Labels Shape:\", test_data_labels.shape)\n"
      ]
    },
    {
      "cell_type": "code",
      "source": [
        "test_data_tensors"
      ],
      "metadata": {
        "colab": {
          "base_uri": "https://localhost:8080/"
        },
        "id": "ZLAcR_CyAbfP",
        "outputId": "c7b1240a-a3f7-44d0-be84-0825202a0f56"
      },
      "execution_count": 91,
      "outputs": [
        {
          "output_type": "execute_result",
          "data": {
            "text/plain": [
              "tensor([[[[1., 1., 1., 1.],\n",
              "          [1., 2., 2., 1.],\n",
              "          [1., 2., 2., 1.],\n",
              "          [1., 1., 1., 1.]]],\n",
              "\n",
              "\n",
              "        [[[1., 1., 1., 2.],\n",
              "          [1., 1., 2., 2.],\n",
              "          [1., 2., 2., 2.],\n",
              "          [2., 2., 2., 2.]]]], dtype=torch.float64)"
            ]
          },
          "metadata": {},
          "execution_count": 91
        }
      ]
    },
    {
      "cell_type": "markdown",
      "metadata": {
        "id": "3YK0BBZEcOUF"
      },
      "source": [
        "If your code is correct, this cell will execute without any issues."
      ]
    },
    {
      "cell_type": "code",
      "execution_count": 85,
      "metadata": {
        "id": "xcTv2ZYxcOUF",
        "colab": {
          "base_uri": "https://localhost:8080/"
        },
        "outputId": "95c0ff3c-b508-4df3-dcfc-b61ed4138027"
      },
      "outputs": [
        {
          "output_type": "stream",
          "name": "stdout",
          "text": [
            "You have successfully created the data_tensors!\n"
          ]
        }
      ],
      "source": [
        "assert test_data_tensors.shape == torch.Size([2, 1, 4, 4])\n",
        "assert test_data_labels.shape == torch.Size([2, 1])\n",
        "print(\"You have successfully created the data_tensors!\")"
      ]
    },
    {
      "cell_type": "markdown",
      "metadata": {
        "id": "Ky1cnIkQcOUF"
      },
      "source": [
        "**Show feature maps of each model's filters with 2 classes of test data.**\n",
        "\n",
        "- Use `.get_features()`\n",
        "\n",
        "<details>\n",
        "\n",
        "<summary>\n",
        "<font size=\"3\" color=\"orange\">\n",
        "<b>Expected output</b>\n",
        "</font>\n",
        "</summary>\n",
        "\n",
        "- The output should resemble this, but not be identical.\n",
        "\n",
        "![image-2.png](attachment:image-2.png)\n",
        "\n",
        "</details>"
      ]
    },
    {
      "cell_type": "code",
      "source": [
        "# Get feature maps for triangle and square test tensors\n",
        "conv1_triangle, conv2_triangle = model.get_features(tensor_triangle_test.float().to(device))\n",
        "conv1_square, conv2_square = model.get_features(tensor_square_test.float().to(device))"
      ],
      "metadata": {
        "id": "eI9ChnFKAiVz"
      },
      "execution_count": 92,
      "outputs": []
    },
    {
      "cell_type": "code",
      "execution_count": 93,
      "metadata": {
        "id": "edxo7bUpcOUF",
        "colab": {
          "base_uri": "https://localhost:8080/",
          "height": 610
        },
        "outputId": "3fb096f1-0b5b-4a08-e1e2-e781e7213bbd"
      },
      "outputs": [
        {
          "output_type": "display_data",
          "data": {
            "text/plain": [
              "<Figure size 1200x600 with 8 Axes>"
            ],
            "image/png": "[encoded data removed]"
          },
          "metadata": {}
        }
      ],
      "source": [
        "import matplotlib.pyplot as plt\n",
        "\n",
        "# Plotting feature maps for triangle inputs\n",
        "plt.figure(figsize=(12, 6))\n",
        "plt.suptitle('Feature Maps of Each Model\\'s Filters for Triangle and Square Test Data', fontsize=16)\n",
        "\n",
        "# Plot feature maps for triangle test tensor\n",
        "plt.subplot(2, 4, 1)\n",
        "plt.imshow(conv1_triangle[0, 0].squeeze().cpu().detach().numpy(), cmap=\"gray\")\n",
        "plt.title('Conv1 Triangle Filter 1')\n",
        "plt.axis('off')\n",
        "\n",
        "plt.subplot(2, 4, 2)\n",
        "plt.imshow(conv1_triangle[0, 1].squeeze().cpu().detach().numpy(), cmap=\"gray\")\n",
        "plt.title('Conv1 Triangle Filter 2')\n",
        "plt.axis('off')\n",
        "\n",
        "plt.subplot(2, 4, 5)\n",
        "plt.imshow(conv2_triangle[0, 0].squeeze().cpu().detach().numpy(), cmap=\"gray\")\n",
        "plt.title('Conv2 Triangle Filter 1')\n",
        "plt.axis('off')\n",
        "\n",
        "plt.subplot(2, 4, 6)\n",
        "plt.imshow(conv2_triangle[0, 1].squeeze().cpu().detach().numpy(), cmap=\"gray\")\n",
        "plt.title('Conv2 Triangle Filter 2')\n",
        "plt.axis('off')\n",
        "\n",
        "# Plot feature maps for square test tensor\n",
        "plt.subplot(2, 4, 3)\n",
        "plt.imshow(conv1_square[0, 0].squeeze().cpu().detach().numpy(), cmap=\"gray\")\n",
        "plt.title('Conv1 Square Filter 1')\n",
        "plt.axis('off')\n",
        "\n",
        "plt.subplot(2, 4, 4)\n",
        "plt.imshow(conv1_square[0, 1].squeeze().cpu().detach().numpy(), cmap=\"gray\")\n",
        "plt.title('Conv1 Square Filter 2')\n",
        "plt.axis('off')\n",
        "\n",
        "plt.subplot(2, 4, 7)\n",
        "plt.imshow(conv2_square[0, 0].squeeze().cpu().detach().numpy(), cmap=\"gray\")\n",
        "plt.title('Conv2 Square Filter 1')\n",
        "plt.axis('off')\n",
        "\n",
        "plt.subplot(2, 4, 8)\n",
        "plt.imshow(conv2_square[0, 1].squeeze().cpu().detach().numpy(), cmap=\"gray\")\n",
        "plt.title('Conv2 Square Filter 2')\n",
        "plt.axis('off')\n",
        "\n",
        "plt.tight_layout()\n",
        "plt.show()\n"
      ]
    },
    {
      "cell_type": "markdown",
      "metadata": {
        "id": "LpVcfRGCcOUF"
      },
      "source": [
        "**Try to predict classes using the test dataset. Then, plot the confusion matrix and print the classification report.**\n",
        "<details>\n",
        "\n",
        "<summary>\n",
        "<font size=\"3\" color=\"orange\">\n",
        "<b>Expected output</b>\n",
        "</font>\n",
        "</summary>\n",
        "\n",
        "![image.png](attachment:image.png)\n",
        "\n",
        "```\n",
        "              precision    recall  f1-score   support\n",
        "\n",
        "           0       1.00      1.00      1.00         1\n",
        "           1       1.00      1.00      1.00         1\n",
        "\n",
        "    accuracy                           1.00         2\n",
        "   macro avg       1.00      1.00      1.00         2\n",
        "weighted avg       1.00      1.00      1.00         2\n",
        "\n",
        "```\n",
        "\n",
        "</details>"
      ]
    },
    {
      "cell_type": "code",
      "source": [
        "test_data_tensors"
      ],
      "metadata": {
        "colab": {
          "base_uri": "https://localhost:8080/"
        },
        "id": "XjRfv6s2Cfyq",
        "outputId": "f332329c-cb0c-4afa-cef4-01839bb02086"
      },
      "execution_count": 95,
      "outputs": [
        {
          "output_type": "execute_result",
          "data": {
            "text/plain": [
              "tensor([[[[1., 1., 1., 1.],\n",
              "          [1., 2., 2., 1.],\n",
              "          [1., 2., 2., 1.],\n",
              "          [1., 1., 1., 1.]]],\n",
              "\n",
              "\n",
              "        [[[1., 1., 1., 2.],\n",
              "          [1., 1., 2., 2.],\n",
              "          [1., 2., 2., 2.],\n",
              "          [2., 2., 2., 2.]]]], dtype=torch.float64)"
            ]
          },
          "metadata": {},
          "execution_count": 95
        }
      ]
    },
    {
      "cell_type": "code",
      "execution_count": 110,
      "metadata": {
        "id": "qZV6JXiOcOUF",
        "colab": {
          "base_uri": "https://localhost:8080/",
          "height": 720
        },
        "outputId": "60593747-b8c8-43b3-8436-ff479d8ca5af"
      },
      "outputs": [
        {
          "output_type": "display_data",
          "data": {
            "text/plain": [
              "<Figure size 800x600 with 2 Axes>"
            ],
            "image/png": "[encoded data removed]"
          },
          "metadata": {}
        },
        {
          "output_type": "stream",
          "name": "stdout",
          "text": [
            "              precision    recall  f1-score   support\n",
            "\n",
            "    Triangle       1.00      1.00      1.00         1\n",
            "      Square       1.00      1.00      1.00         1\n",
            "\n",
            "    accuracy                           1.00         2\n",
            "   macro avg       1.00      1.00      1.00         2\n",
            "weighted avg       1.00      1.00      1.00         2\n",
            "\n"
          ]
        }
      ],
      "source": [
        "# Predict classes using the test dataset\n",
        "with torch.no_grad():\n",
        "    model.eval()  # Set model to evaluation mode\n",
        "    predictions = model(test_data_tensors.float().to(device)).cpu().numpy().round()  # Round predictions to 0 or 1\n",
        "\n",
        "# Convert predicted labels and true labels to numpy arrays\n",
        "predicted_labels = predictions.astype(int).flatten()\n",
        "true_labels = test_data_labels.cpu().numpy().flatten()\n",
        "\n",
        "# Plot the confusion matrix\n",
        "cm = confusion_matrix(true_labels, predicted_labels)\n",
        "plt.figure(figsize=(8, 6))\n",
        "sns.heatmap(cm, annot=True, fmt=\"d\", cmap=\"Blues\", xticklabels=[\"Triangle\", \"Square\"], yticklabels=[\"Triangle\", \"Square\"])\n",
        "plt.xlabel('Predicted')\n",
        "plt.ylabel('True')\n",
        "plt.title('Confusion Matrix')\n",
        "plt.show()\n",
        "\n",
        "# Print the classification report\n",
        "print(classification_report(true_labels, predicted_labels, target_names=[\"Triangle\", \"Square\"]))\n"
      ]
    },
    {
      "cell_type": "code",
      "source": [],
      "metadata": {
        "id": "tPmaIEm7-2Rc"
      },
      "execution_count": null,
      "outputs": []
    }
  ],
  "metadata": {
    "kernelspec": {
      "display_name": "ML_Lab",
      "language": "python",
      "name": "python3"
    },
    "language_info": {
      "codemirror_mode": {
        "name": "ipython",
        "version": 3
      },
      "file_extension": ".py",
      "mimetype": "text/x-python",
      "name": "python",
      "nbconvert_exporter": "python",
      "pygments_lexer": "ipython3",
      "version": "3.10.13"
    },
    "colab": {
      "provenance": []
    }
  },
  "nbformat": 4,
  "nbformat_minor": 0
}