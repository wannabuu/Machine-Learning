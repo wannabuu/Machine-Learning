{
  "cells": [
    {
      "cell_type": "markdown",
      "metadata": {
        "id": "mETwfRZkLXZg"
      },
      "source": [
        "# **LAB 3 - PART 1 SVM Kernel Hard Prediction**"
      ]
    },
    {
      "cell_type": "code",
      "execution_count": null,
      "metadata": {
        "id": "2uShjJZbLXZj"
      },
      "outputs": [],
      "source": [
        "import numpy as np\n",
        "import pandas as pd\n",
        "import matplotlib.pyplot as plt\n",
        "from mpl_toolkits.mplot3d import Axes3D"
      ]
    },
    {
      "cell_type": "markdown",
      "metadata": {
        "id": "0xm8Ctv6LXZk"
      },
      "source": [
        "#### **Read csv file**"
      ]
    },
    {
      "cell_type": "code",
      "execution_count": null,
      "metadata": {
        "colab": {
          "base_uri": "https://localhost:8080/",
          "height": 373
        },
        "id": "rDM6iIBDLXZk",
        "outputId": "412a05dd-a7a2-40e7-a6b2-31b67d639b59"
      },
      "outputs": [
        {
          "ename": "FileNotFoundError",
          "evalue": "[Errno 2] No such file or directory: '/content/data_sample.csv'",
          "output_type": "error",
          "traceback": [
            "\u001b[0;31m---------------------------------------------------------------------------\u001b[0m",
            "\u001b[0;31mFileNotFoundError\u001b[0m                         Traceback (most recent call last)",
            "\u001b[0;32m<ipython-input-5-ddff03275bf3>\u001b[0m in \u001b[0;36m<cell line: 2>\u001b[0;34m()\u001b[0m\n\u001b[1;32m      1\u001b[0m \u001b[0;31m### START CODE HERE ###\u001b[0m\u001b[0;34m\u001b[0m\u001b[0;34m\u001b[0m\u001b[0m\n\u001b[0;32m----> 2\u001b[0;31m \u001b[0mdf\u001b[0m \u001b[0;34m=\u001b[0m \u001b[0mpd\u001b[0m\u001b[0;34m.\u001b[0m\u001b[0mread_csv\u001b[0m\u001b[0;34m(\u001b[0m\u001b[0;34m\"/content/data_sample.csv\"\u001b[0m\u001b[0;34m)\u001b[0m\u001b[0;34m\u001b[0m\u001b[0;34m\u001b[0m\u001b[0m\n\u001b[0m\u001b[1;32m      3\u001b[0m \u001b[0mdf\u001b[0m\u001b[0;34m\u001b[0m\u001b[0;34m\u001b[0m\u001b[0m\n\u001b[1;32m      4\u001b[0m \u001b[0;31m### END CODE HERE ###\u001b[0m\u001b[0;34m\u001b[0m\u001b[0;34m\u001b[0m\u001b[0m\n",
            "\u001b[0;32m/usr/local/lib/python3.10/dist-packages/pandas/util/_decorators.py\u001b[0m in \u001b[0;36mwrapper\u001b[0;34m(*args, **kwargs)\u001b[0m\n\u001b[1;32m    209\u001b[0m                 \u001b[0;32melse\u001b[0m\u001b[0;34m:\u001b[0m\u001b[0;34m\u001b[0m\u001b[0;34m\u001b[0m\u001b[0m\n\u001b[1;32m    210\u001b[0m                     \u001b[0mkwargs\u001b[0m\u001b[0;34m[\u001b[0m\u001b[0mnew_arg_name\u001b[0m\u001b[0;34m]\u001b[0m \u001b[0;34m=\u001b[0m \u001b[0mnew_arg_value\u001b[0m\u001b[0;34m\u001b[0m\u001b[0;34m\u001b[0m\u001b[0m\n\u001b[0;32m--> 211\u001b[0;31m             \u001b[0;32mreturn\u001b[0m \u001b[0mfunc\u001b[0m\u001b[0;34m(\u001b[0m\u001b[0;34m*\u001b[0m\u001b[0margs\u001b[0m\u001b[0;34m,\u001b[0m \u001b[0;34m**\u001b[0m\u001b[0mkwargs\u001b[0m\u001b[0;34m)\u001b[0m\u001b[0;34m\u001b[0m\u001b[0;34m\u001b[0m\u001b[0m\n\u001b[0m\u001b[1;32m    212\u001b[0m \u001b[0;34m\u001b[0m\u001b[0m\n\u001b[1;32m    213\u001b[0m         \u001b[0;32mreturn\u001b[0m \u001b[0mcast\u001b[0m\u001b[0;34m(\u001b[0m\u001b[0mF\u001b[0m\u001b[0;34m,\u001b[0m \u001b[0mwrapper\u001b[0m\u001b[0;34m)\u001b[0m\u001b[0;34m\u001b[0m\u001b[0;34m\u001b[0m\u001b[0m\n",
            "\u001b[0;32m/usr/local/lib/python3.10/dist-packages/pandas/util/_decorators.py\u001b[0m in \u001b[0;36mwrapper\u001b[0;34m(*args, **kwargs)\u001b[0m\n\u001b[1;32m    329\u001b[0m                     \u001b[0mstacklevel\u001b[0m\u001b[0;34m=\u001b[0m\u001b[0mfind_stack_level\u001b[0m\u001b[0;34m(\u001b[0m\u001b[0;34m)\u001b[0m\u001b[0;34m,\u001b[0m\u001b[0;34m\u001b[0m\u001b[0;34m\u001b[0m\u001b[0m\n\u001b[1;32m    330\u001b[0m                 )\n\u001b[0;32m--> 331\u001b[0;31m             \u001b[0;32mreturn\u001b[0m \u001b[0mfunc\u001b[0m\u001b[0;34m(\u001b[0m\u001b[0;34m*\u001b[0m\u001b[0margs\u001b[0m\u001b[0;34m,\u001b[0m \u001b[0;34m**\u001b[0m\u001b[0mkwargs\u001b[0m\u001b[0;34m)\u001b[0m\u001b[0;34m\u001b[0m\u001b[0;34m\u001b[0m\u001b[0m\n\u001b[0m\u001b[1;32m    332\u001b[0m \u001b[0;34m\u001b[0m\u001b[0m\n\u001b[1;32m    333\u001b[0m         \u001b[0;31m# error: \"Callable[[VarArg(Any), KwArg(Any)], Any]\" has no\u001b[0m\u001b[0;34m\u001b[0m\u001b[0;34m\u001b[0m\u001b[0m\n",
            "\u001b[0;32m/usr/local/lib/python3.10/dist-packages/pandas/io/parsers/readers.py\u001b[0m in \u001b[0;36mread_csv\u001b[0;34m(filepath_or_buffer, sep, delimiter, header, names, index_col, usecols, squeeze, prefix, mangle_dupe_cols, dtype, engine, converters, true_values, false_values, skipinitialspace, skiprows, skipfooter, nrows, na_values, keep_default_na, na_filter, verbose, skip_blank_lines, parse_dates, infer_datetime_format, keep_date_col, date_parser, dayfirst, cache_dates, iterator, chunksize, compression, thousands, decimal, lineterminator, quotechar, quoting, doublequote, escapechar, comment, encoding, encoding_errors, dialect, error_bad_lines, warn_bad_lines, on_bad_lines, delim_whitespace, low_memory, memory_map, float_precision, storage_options)\u001b[0m\n\u001b[1;32m    948\u001b[0m     \u001b[0mkwds\u001b[0m\u001b[0;34m.\u001b[0m\u001b[0mupdate\u001b[0m\u001b[0;34m(\u001b[0m\u001b[0mkwds_defaults\u001b[0m\u001b[0;34m)\u001b[0m\u001b[0;34m\u001b[0m\u001b[0;34m\u001b[0m\u001b[0m\n\u001b[1;32m    949\u001b[0m \u001b[0;34m\u001b[0m\u001b[0m\n\u001b[0;32m--> 950\u001b[0;31m     \u001b[0;32mreturn\u001b[0m \u001b[0m_read\u001b[0m\u001b[0;34m(\u001b[0m\u001b[0mfilepath_or_buffer\u001b[0m\u001b[0;34m,\u001b[0m \u001b[0mkwds\u001b[0m\u001b[0;34m)\u001b[0m\u001b[0;34m\u001b[0m\u001b[0;34m\u001b[0m\u001b[0m\n\u001b[0m\u001b[1;32m    951\u001b[0m \u001b[0;34m\u001b[0m\u001b[0m\n\u001b[1;32m    952\u001b[0m \u001b[0;34m\u001b[0m\u001b[0m\n",
            "\u001b[0;32m/usr/local/lib/python3.10/dist-packages/pandas/io/parsers/readers.py\u001b[0m in \u001b[0;36m_read\u001b[0;34m(filepath_or_buffer, kwds)\u001b[0m\n\u001b[1;32m    603\u001b[0m \u001b[0;34m\u001b[0m\u001b[0m\n\u001b[1;32m    604\u001b[0m     \u001b[0;31m# Create the parser.\u001b[0m\u001b[0;34m\u001b[0m\u001b[0;34m\u001b[0m\u001b[0m\n\u001b[0;32m--> 605\u001b[0;31m     \u001b[0mparser\u001b[0m \u001b[0;34m=\u001b[0m \u001b[0mTextFileReader\u001b[0m\u001b[0;34m(\u001b[0m\u001b[0mfilepath_or_buffer\u001b[0m\u001b[0;34m,\u001b[0m \u001b[0;34m**\u001b[0m\u001b[0mkwds\u001b[0m\u001b[0;34m)\u001b[0m\u001b[0;34m\u001b[0m\u001b[0;34m\u001b[0m\u001b[0m\n\u001b[0m\u001b[1;32m    606\u001b[0m \u001b[0;34m\u001b[0m\u001b[0m\n\u001b[1;32m    607\u001b[0m     \u001b[0;32mif\u001b[0m \u001b[0mchunksize\u001b[0m \u001b[0;32mor\u001b[0m \u001b[0miterator\u001b[0m\u001b[0;34m:\u001b[0m\u001b[0;34m\u001b[0m\u001b[0;34m\u001b[0m\u001b[0m\n",
            "\u001b[0;32m/usr/local/lib/python3.10/dist-packages/pandas/io/parsers/readers.py\u001b[0m in \u001b[0;36m__init__\u001b[0;34m(self, f, engine, **kwds)\u001b[0m\n\u001b[1;32m   1440\u001b[0m \u001b[0;34m\u001b[0m\u001b[0m\n\u001b[1;32m   1441\u001b[0m         \u001b[0mself\u001b[0m\u001b[0;34m.\u001b[0m\u001b[0mhandles\u001b[0m\u001b[0;34m:\u001b[0m \u001b[0mIOHandles\u001b[0m \u001b[0;34m|\u001b[0m \u001b[0;32mNone\u001b[0m \u001b[0;34m=\u001b[0m \u001b[0;32mNone\u001b[0m\u001b[0;34m\u001b[0m\u001b[0;34m\u001b[0m\u001b[0m\n\u001b[0;32m-> 1442\u001b[0;31m         \u001b[0mself\u001b[0m\u001b[0;34m.\u001b[0m\u001b[0m_engine\u001b[0m \u001b[0;34m=\u001b[0m \u001b[0mself\u001b[0m\u001b[0;34m.\u001b[0m\u001b[0m_make_engine\u001b[0m\u001b[0;34m(\u001b[0m\u001b[0mf\u001b[0m\u001b[0;34m,\u001b[0m \u001b[0mself\u001b[0m\u001b[0;34m.\u001b[0m\u001b[0mengine\u001b[0m\u001b[0;34m)\u001b[0m\u001b[0;34m\u001b[0m\u001b[0;34m\u001b[0m\u001b[0m\n\u001b[0m\u001b[1;32m   1443\u001b[0m \u001b[0;34m\u001b[0m\u001b[0m\n\u001b[1;32m   1444\u001b[0m     \u001b[0;32mdef\u001b[0m \u001b[0mclose\u001b[0m\u001b[0;34m(\u001b[0m\u001b[0mself\u001b[0m\u001b[0;34m)\u001b[0m \u001b[0;34m->\u001b[0m \u001b[0;32mNone\u001b[0m\u001b[0;34m:\u001b[0m\u001b[0;34m\u001b[0m\u001b[0;34m\u001b[0m\u001b[0m\n",
            "\u001b[0;32m/usr/local/lib/python3.10/dist-packages/pandas/io/parsers/readers.py\u001b[0m in \u001b[0;36m_make_engine\u001b[0;34m(self, f, engine)\u001b[0m\n\u001b[1;32m   1733\u001b[0m                 \u001b[0;32mif\u001b[0m \u001b[0;34m\"b\"\u001b[0m \u001b[0;32mnot\u001b[0m \u001b[0;32min\u001b[0m \u001b[0mmode\u001b[0m\u001b[0;34m:\u001b[0m\u001b[0;34m\u001b[0m\u001b[0;34m\u001b[0m\u001b[0m\n\u001b[1;32m   1734\u001b[0m                     \u001b[0mmode\u001b[0m \u001b[0;34m+=\u001b[0m \u001b[0;34m\"b\"\u001b[0m\u001b[0;34m\u001b[0m\u001b[0;34m\u001b[0m\u001b[0m\n\u001b[0;32m-> 1735\u001b[0;31m             self.handles = get_handle(\n\u001b[0m\u001b[1;32m   1736\u001b[0m                 \u001b[0mf\u001b[0m\u001b[0;34m,\u001b[0m\u001b[0;34m\u001b[0m\u001b[0;34m\u001b[0m\u001b[0m\n\u001b[1;32m   1737\u001b[0m                 \u001b[0mmode\u001b[0m\u001b[0;34m,\u001b[0m\u001b[0;34m\u001b[0m\u001b[0;34m\u001b[0m\u001b[0m\n",
            "\u001b[0;32m/usr/local/lib/python3.10/dist-packages/pandas/io/common.py\u001b[0m in \u001b[0;36mget_handle\u001b[0;34m(path_or_buf, mode, encoding, compression, memory_map, is_text, errors, storage_options)\u001b[0m\n\u001b[1;32m    854\u001b[0m         \u001b[0;32mif\u001b[0m \u001b[0mioargs\u001b[0m\u001b[0;34m.\u001b[0m\u001b[0mencoding\u001b[0m \u001b[0;32mand\u001b[0m \u001b[0;34m\"b\"\u001b[0m \u001b[0;32mnot\u001b[0m \u001b[0;32min\u001b[0m \u001b[0mioargs\u001b[0m\u001b[0;34m.\u001b[0m\u001b[0mmode\u001b[0m\u001b[0;34m:\u001b[0m\u001b[0;34m\u001b[0m\u001b[0;34m\u001b[0m\u001b[0m\n\u001b[1;32m    855\u001b[0m             \u001b[0;31m# Encoding\u001b[0m\u001b[0;34m\u001b[0m\u001b[0;34m\u001b[0m\u001b[0m\n\u001b[0;32m--> 856\u001b[0;31m             handle = open(\n\u001b[0m\u001b[1;32m    857\u001b[0m                 \u001b[0mhandle\u001b[0m\u001b[0;34m,\u001b[0m\u001b[0;34m\u001b[0m\u001b[0;34m\u001b[0m\u001b[0m\n\u001b[1;32m    858\u001b[0m                 \u001b[0mioargs\u001b[0m\u001b[0;34m.\u001b[0m\u001b[0mmode\u001b[0m\u001b[0;34m,\u001b[0m\u001b[0;34m\u001b[0m\u001b[0;34m\u001b[0m\u001b[0m\n",
            "\u001b[0;31mFileNotFoundError\u001b[0m: [Errno 2] No such file or directory: '/content/data_sample.csv'"
          ]
        }
      ],
      "source": [
        "### START CODE HERE ###\n",
        "df = pd.read_csv(\"/content/data_sample.csv\")\n",
        "df\n",
        "### END CODE HERE ###"
      ]
    },
    {
      "cell_type": "markdown",
      "metadata": {
        "id": "lebNlIqSLXZk"
      },
      "source": [
        "#### **Split the data for Train and Test**\n",
        "First 5 rows for train and the rest for test."
      ]
    },
    {
      "cell_type": "code",
      "execution_count": null,
      "metadata": {
        "id": "u9kLoS-oLXZl"
      },
      "outputs": [],
      "source": [
        "### START CODE HERE ###\n",
        "train = df.head()\n",
        "test = df.tail(len(df) - 5)\n",
        "\n",
        "print(train)\n",
        "print(test)\n",
        "### END CODE HERE ###"
      ]
    },
    {
      "cell_type": "markdown",
      "metadata": {
        "id": "lfR6sc3DLXZl"
      },
      "source": [
        "Split targets and feature as y and x respectively.\n",
        "- `y` : `Target`\n",
        "- `x` : `Radius,Texture`"
      ]
    },
    {
      "cell_type": "code",
      "execution_count": null,
      "metadata": {
        "id": "02HsZViDLXZl"
      },
      "outputs": [],
      "source": [
        "### START CODE HERE ###\n",
        "# Extract 'Target' column for training set\n",
        "y_train = train.iloc[:, 0]\n",
        "\n",
        "# Extract 'Radius' and 'Texture' columns for training set\n",
        "x_train = train.iloc[:, 1:3]  # Assuming 'Radius' is at position 1 and 'Texture' is at position 2\n",
        "\n",
        "# For test set, assuming 'test' is the DataFrame containing your test data\n",
        "# Extract 'Target' column for test set\n",
        "y_test = test.iloc[:, 0]\n",
        "\n",
        "# Extract 'Radius' and 'Texture' columns for test set\n",
        "x_test = test.iloc[:, 1:3]  # Assuming\n",
        "\n",
        "\n",
        "\n",
        "### END CODE HERE ###"
      ]
    },
    {
      "cell_type": "markdown",
      "metadata": {
        "id": "mHrNYz2hLXZl"
      },
      "source": [
        "### **Create and observe the kernel behavior**"
      ]
    },
    {
      "cell_type": "markdown",
      "metadata": {
        "id": "JOtriZKXLXZl"
      },
      "source": [
        "Here is the kernel function.\n",
        "$$K_i(x_j,x_i) = exp(-\\gamma||x_j-x_i||^2)$$\n",
        "After obtaining the kernel values, you will perform a 3D visualization of $(x_1,x_2,K_i)$."
      ]
    },
    {
      "cell_type": "markdown",
      "metadata": {
        "id": "2HZkcKpALXZm"
      },
      "source": [
        "**Create the function that return all kernels as a list.**"
      ]
    },
    {
      "cell_type": "code",
      "execution_count": null,
      "metadata": {
        "id": "wmo71mcoLXZm"
      },
      "outputs": [],
      "source": [
        "def matrix_calculate_kernel(x,x_train):\n",
        "    kernels = []\n",
        "    kernels_arr = []\n",
        "    gamma = 1\n",
        "    ### START CODE HERE ###\n",
        "\n",
        "\n",
        "    n_samples = x_train.shape[0]\n",
        "    kernel_value = []\n",
        "\n",
        "    for i in range(x.shape[0]):\n",
        "        for j in range(n_samples):\n",
        "            xi = x.iloc[i,:]\n",
        "            xj = x_train.iloc[j,:]\n",
        "            distance_squared = np.sum((xi - xj) ** 2)\n",
        "            kernel_value = np.exp(-gamma * distance_squared)\n",
        "            kernels.append(kernel_value)\n",
        "        kernels_arr.append(kernels)\n",
        "        kernels = []\n",
        "    return kernels_arr\n",
        "\n",
        "\n",
        "    ### END CODE HERE ###"
      ]
    },
    {
      "cell_type": "markdown",
      "metadata": {
        "id": "s83q_-8ULXZm"
      },
      "source": [
        "\n",
        "<details>\n",
        "\n",
        "<summary>\n",
        "<font size=\"3\" color=\"orange\">\n",
        "<b>Expected output</b>\n",
        "</font>\n",
        "</summary>\n",
        "\n",
        "It is not necessary to print the output like this. Simply compare the values obtained with the expected results.\n",
        "- Kernel 1 :`[1.00000000e+00 1.68638147e-01 1.31720301e-06 1.65298888e-01 1.16785670e-02]`\n",
        "- Kernel 2 :`[1.68638147e-01 1.00000000e+00 1.68752986e-09 1.20342323e-02 9.44523667e-06]`\n",
        "- Kernel 3 :`[1.31720301e-06 1.68752986e-09 1.00000000e+00 2.85124368e-03 3.28082741e-07]`\n",
        "- Kernel 4 :`[0.16529889 0.01203423 0.00285124 1.         0.00119453]`\n",
        "- Kernel 5 :`[1.16785670e-02 9.44523667e-06 3.28082741e-07 1.19453296e-03 1.00000000e+00]`\n",
        "\n",
        "</details>\n",
        "\n"
      ]
    },
    {
      "cell_type": "code",
      "execution_count": null,
      "metadata": {
        "id": "V7pugQ2eLXZm"
      },
      "outputs": [],
      "source": [
        "matrix_calculate_kernel(x_train,x_train)\n"
      ]
    },
    {
      "cell_type": "markdown",
      "metadata": {
        "id": "JuASbjqOLXZn"
      },
      "source": [
        "Use the weight ($\\theta_{1-n}$) and bias ($\\theta_{0}$) base on your activity last."
      ]
    },
    {
      "cell_type": "code",
      "execution_count": null,
      "metadata": {
        "id": "1U49zxt0LXZn"
      },
      "outputs": [],
      "source": [
        "kernels_train = np.array(matrix_calculate_kernel(x_train,x_train))\n",
        "print(kernels_train[0])\n",
        "### START CODE HERE ###\n",
        "w = np.array([0.5,-0.5,0.1,-0.5,0])\n",
        "b = [0]\n",
        "\n",
        "kernels_train[0]*w[0]\n",
        "### END CODE HERE ###"
      ]
    },
    {
      "cell_type": "markdown",
      "metadata": {
        "id": "zEgi0V3kLXZo"
      },
      "source": [
        "Create the `compare_3dplot` function to plot difference raw kernels $(x_1,x_2,K_i)$ and weighted kernels $(x_1,x_2,\\theta_i K_i)$.<br>\n",
        "**NOTE** : Plot as subplots, and in each subplot, also plot $(x_1,x_2,0)$  with a different color to visualize the $(x_1,x_2)$ before applying the kernel.\n",
        "\n",
        "<details>\n",
        "\n",
        "<summary>\n",
        "<font size=\"3\" color=\"green\">\n",
        "<b>Hints</b>\n",
        "</font>\n",
        "</summary>\n",
        "\n",
        "- There is a parameter : `projection='3d'`\n",
        "</details>\n",
        "\n",
        "<br>\n",
        "<details>\n",
        "\n",
        "<summary>\n",
        "<font size=\"3\" color=\"orange\">\n",
        "<b>Expected output</b>\n",
        "</font>\n",
        "</summary>\n",
        "\n",
        "\n",
        "\n",
        "</details>\n"
      ]
    },
    {
      "cell_type": "code",
      "execution_count": null,
      "metadata": {
        "id": "olmI7j2_LXZo"
      },
      "outputs": [],
      "source": [
        "# # %matplotlib widget\n",
        "# def compare_3dplot(x_train,kernels,w):\n",
        "\n",
        "\n",
        "\n",
        "\n",
        "#     ### START CODE HERE ###\n",
        "\n",
        "#     # Create subplots\n",
        "#     fig, axs = plt.subplots(1, len(kernels) + 1, figsize=(15, 5), subplot_kw={'projection': '3d'})\n",
        "\n",
        "def compare_3dplot(x_train,kernels,w):\n",
        "\n",
        "    # Create subplots\n",
        "    fig, axs = plt.subplots(1, 2, figsize=(10, 5), subplot_kw={'projection': '3d'})\n",
        "\n",
        "    # Plot raw kernels\n",
        "    # axs[0].plot_trisurf(x_train['Radius'], x_train['Texture'], kernels)\n",
        "    axs[0].scatter3D(x_train['Radius'], kernels, c='blue')\n",
        "    axs[0].scatter3D(x_train['Texture'], kernels, c='green')\n",
        "    axs[0].set_title('Raw Kernels')\n",
        "\n",
        "    # Plot weighted kernels\n",
        "    axs[1].set_title('Weighted Kernels')\n",
        "    axs[1].scatter3D(x_train['Radius'], kernels*w, c='blue')\n",
        "    axs[1].scatter3D(x_train['Texture'], kernels*w, c='green')\n",
        "#     ### END CODE HERE ###"
      ]
    },
    {
      "cell_type": "code",
      "execution_count": null,
      "metadata": {
        "id": "WfNojWTvLXZo"
      },
      "outputs": [],
      "source": [
        "compare_3dplot(x_train,kernels_train[0],w[0])"
      ]
    },
    {
      "cell_type": "code",
      "execution_count": null,
      "metadata": {
        "id": "ezintExdLXZo"
      },
      "outputs": [],
      "source": [
        "compare_3dplot(x_train,kernels_train[1],w[1])"
      ]
    },
    {
      "cell_type": "code",
      "execution_count": null,
      "metadata": {
        "id": "8urfSap3LXZp"
      },
      "outputs": [],
      "source": [
        "compare_3dplot(x_train,kernels_train[2],w[2])"
      ]
    },
    {
      "cell_type": "code",
      "execution_count": null,
      "metadata": {
        "id": "-ALHz06ZLXZp"
      },
      "outputs": [],
      "source": [
        "compare_3dplot(x_train,kernels_train[3],w[3])"
      ]
    },
    {
      "cell_type": "code",
      "execution_count": null,
      "metadata": {
        "id": "Yn1SW71VLXZp"
      },
      "outputs": [],
      "source": [
        "compare_3dplot(x_train,kernels_train[4],w[4])"
      ]
    },
    {
      "cell_type": "markdown",
      "metadata": {
        "id": "33NNta_PLXZp"
      },
      "source": [
        "### **SVM decision function**\n",
        "Create the SVM decision function that return the predicted class.\n",
        "$$\n",
        "K_i(x_j,x_i) = exp(-\\gamma||x_j-x_i||^2) \\\\\n",
        "h(X) = \\sum_{i=1}^N\\theta_i K_i + \\theta_0\\\\\n",
        "\n",
        "\\hat{Y} =\n",
        "\\begin{cases}\n",
        "    1 &  h \\geq 0 \\\\\n",
        "    0 & \\text{otherwise}\n",
        "\\end{cases}\n",
        "\n",
        "$$\n"
      ]
    },
    {
      "cell_type": "code",
      "execution_count": null,
      "metadata": {
        "id": "c-DsplbjLXZp"
      },
      "outputs": [],
      "source": [
        "def svm_decision_function(x, x_train, w, b, gamma=1):\n",
        "    pred_list = []\n",
        "    kernels = np.array(matrix_calculate_kernel(x,x_train))\n",
        "    # Take dot product between kernels and weights\n",
        "    for i in range(len(x)) :\n",
        "      decision = np.dot(kernels[i], w) + b\n",
        "\n",
        "      # Make prediction\n",
        "      if decision >= 0:\n",
        "          pred_class = 1\n",
        "      else:\n",
        "          pred_class = 0\n",
        "      pred_list.append(pred_class)\n",
        "\n",
        "    return pred_list\n",
        "\n",
        "y_pred_arr = svm_decision_function(x_test,x_train,w,b)"
      ]
    },
    {
      "cell_type": "code",
      "execution_count": null,
      "metadata": {
        "id": "sfmQomybuUvg"
      },
      "outputs": [],
      "source": [
        "x_train"
      ]
    },
    {
      "cell_type": "markdown",
      "metadata": {
        "id": "Oe7eBXv5LXZp"
      },
      "source": [
        "### **Confusion matrix**\n",
        "Create the confusion matrix from your prediction. Then, calculate the precision and recall values.<br><br>\n",
        "<span style='color: red;'>**NOTE** : From scratch only.</span>\n",
        "\n",
        "\n",
        "|            | Predicted Negative | Predicted Positive |\n",
        "|------------|--------------------|--------------------|\n",
        "| **Actual Negative** | True Negative (TN) | False Positive (FP) |\n",
        "| **Actual Positive** | False Negative (FN) | True Positive (TP) |\n",
        "\n",
        "\n",
        "$\\text{Precision} = \\frac{TP}{TP + FP}$\n",
        "\n",
        "$\\text{Recall} = \\frac{TP}{TP + FN}$\n",
        "\n",
        "<details>\n",
        "\n",
        "<summary>\n",
        "<font size=\"3\" color=\"orange\">\n",
        "<b>Expected output</b>\n",
        "</font>\n",
        "</summary>\n",
        "\n",
        "- The output should resemble this, but not be identical.</br>\n",
        "\n",
        "```\n",
        "Confusion Matrix:\n",
        "[[1 0]\n",
        "[0 2]]\n",
        "Precision: 1.0\n",
        "Recall: 1.0\n",
        "```\n",
        "\n",
        "</details>"
      ]
    },
    {
      "cell_type": "code",
      "execution_count": null,
      "metadata": {
        "id": "TR88pblyz8jr"
      },
      "outputs": [],
      "source": [
        "y_test_arr =  np.array(y_test.values)\n",
        "y_pred_arr = np.array(y_pred_arr)\n",
        "# y_pred_arr"
      ]
    },
    {
      "cell_type": "code",
      "execution_count": null,
      "metadata": {
        "id": "geGNriSMLXZq"
      },
      "outputs": [],
      "source": [
        " ### START CODE HERE ###\n",
        "\n",
        "TP = np.sum((y_pred_arr == 1) & (y_test_arr == 1))\n",
        "TN = np.sum((y_pred_arr == 0) & (y_test_arr == 0))\n",
        "FP = np.sum((y_pred_arr == 1) & (y_test_arr == 0))\n",
        "FN = np.sum((y_pred_arr == 0) & (y_test_arr == 1))\n",
        "\n",
        "cm = np.array([[TN, FP],\n",
        "               [FN, TP]])\n",
        "\n",
        "# Print confusion matrix\n",
        "print(\"Confusion Matrix:\")\n",
        "print(cm)\n",
        "\n",
        "# Calculate precision and recall\n",
        "precision = TP / (TP + FP)\n",
        "recall = TP / (TP + FN)\n",
        "\n",
        "print(f\"Precision: {precision:.3f}\")\n",
        "print(f\"Recall: {recall:.3f}\")\n",
        "\n",
        "\n",
        "\n",
        "\n",
        "### END CODE HERE ###\n",
        "\n",
        "\n",
        "\n",
        "\n",
        "### END CODE HERE ###"
      ]
    },
    {
      "cell_type": "markdown",
      "metadata": {
        "id": "6pbVJLhuLXZq"
      },
      "source": [
        "### Question\n",
        "1. What would happen if we choose fewer support vectors (number of kernels)?\n",
        "2. If weights are changed to w = [0.2, 0.4, 0.1, -0.2, 0.6], what impact would this have on the classification results, and what is the underlying reason for the changes?"
      ]
    },
    {
      "cell_type": "markdown",
      "metadata": {
        "id": "YvCSj9fX6UNP"
      },
      "source": [
        "#Ans\n",
        "1."
      ]
    }
  ],
  "metadata": {
    "colab": {
      "provenance": []
    },
    "kernelspec": {
      "display_name": "ML_Lab",
      "language": "python",
      "name": "python3"
    },
    "language_info": {
      "codemirror_mode": {
        "name": "ipython",
        "version": 3
      },
      "file_extension": ".py",
      "mimetype": "text/x-python",
      "name": "python",
      "nbconvert_exporter": "python",
      "pygments_lexer": "ipython3",
      "version": "3.10.13"
    }
  },
  "nbformat": 4,
  "nbformat_minor": 0
}
